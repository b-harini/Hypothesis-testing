{
 "cells": [
  {
   "cell_type": "markdown",
   "id": "01ec8989",
   "metadata": {},
   "source": [
    "**Question 1**"
   ]
  },
  {
   "cell_type": "markdown",
   "id": "5009f474",
   "metadata": {},
   "source": [
    "The mean response time for a random sample of 30 pizza deliveries is 32 minutes.\n",
    "\n",
    "The population standard deviation is 10 minutes.\n",
    "\n",
    "The pizza delivery services director wants to perform hypothesis testing with a level of significance of 0.05 to determine whether the service goal of 30 minutes or less has been achieved or not "
   ]
  },
  {
   "cell_type": "markdown",
   "id": "e482d52b",
   "metadata": {},
   "source": [
    "## Statistical Parameters\n",
    "\n",
    "\n",
    "\\begin{align*}\n",
    "\\bar{x} &= 32 \\\\\n",
    "\\mu &= 30 \\\\\n",
    "\\sigma &= 10 \\\\\n",
    "\\alpha &= 0.05 \\\\\n",
    "n &= 30 \\\\\n",
    "\\end{align*}\n",
    "\n"
   ]
  },
  {
   "cell_type": "markdown",
   "id": "83cbe57e",
   "metadata": {},
   "source": [
    "## Hypotheses\n",
    "\n",
    "The null and alternative hypotheses are defined as follows:\n",
    "\n",
    "\n",
    "\\begin{align*}\n",
    "H_0: \\mu_0 &\\leq 30 \\\\\n",
    "H_a: \\mu_0 &> 30 \\\\\n",
    "\\end{align*}\n",
    "\n"
   ]
  },
  {
   "cell_type": "markdown",
   "id": "68d4a792",
   "metadata": {},
   "source": [
    "## Test Type\n",
    "\n",
    "Since the alternative hypothesis contains the greater than (>) sign, we perform a one-tailed test. Specifically, this is a right-tailed test because we’re testing if the population parameter is greater than a specific value (30).\n",
    "\n",
    "## Test Statistic\n",
    "\n",
    "Given that the population standard deviation sigma is known, we use the z-test to evaluate the hypotheses. The z-test is appropriate for large sample sizes and when the population standard deviation is known.\n",
    "\n"
   ]
  },
  {
   "cell_type": "code",
   "execution_count": 11,
   "id": "bc442023",
   "metadata": {},
   "outputs": [
    {
     "name": "stdout",
     "output_type": "stream",
     "text": [
      "Z-score: 1.0954451150103321\n",
      "P-value: 0.13666083914614902\n"
     ]
    },
    {
     "data": {
      "text/latex": [
       "\n",
       "If \\( p\\text{-value} \\leq \\alpha \\), reject the null hypothesis (\\(H_0\\)). Otherwise, accept the null hypothesis (\\(H_0\\)).\n"
      ],
      "text/plain": [
       "<IPython.core.display.Latex object>"
      ]
     },
     "metadata": {},
     "output_type": "display_data"
    },
    {
     "data": {
      "text/latex": [
       "\n",
       "Since our \\( p\\text{-value} \\) is greater than \\(\\alpha\\), we accept the null hypothesis (\\(H_0\\)).}\n"
      ],
      "text/plain": [
       "<IPython.core.display.Latex object>"
      ]
     },
     "metadata": {},
     "output_type": "display_data"
    }
   ],
   "source": [
    "import numpy as np\n",
    "import scipy.stats as stats\n",
    "from IPython.display import display, Latex\n",
    "\n",
    "# Given data\n",
    "sample_mean = 32\n",
    "population_mean = 30\n",
    "population_std = 10\n",
    "sample_size = 30\n",
    "\n",
    "# Calculate the z-score\n",
    "z_score = (sample_mean - population_mean) / (population_std / np.sqrt(sample_size))\n",
    "\n",
    "# Calculate the p-value for a one-tailed test\n",
    "p_value = 1 - stats.norm.cdf(z_score)\n",
    "\n",
    "# Output the results\n",
    "print(f\"Z-score: {z_score}\")\n",
    "print(f\"P-value: {p_value}\")\n",
    "display(Latex(r\"\"\"\n",
    "If \\( p\\text{-value} \\leq \\alpha \\), reject the null hypothesis (\\(H_0\\)). Otherwise, accept the null hypothesis (\\(H_0\\)).\n",
    "\"\"\"))\n",
    "\n",
    "\n",
    "\n",
    "display(Latex(r\"\"\"\n",
    "Since our \\( p\\text{-value} \\) is greater than \\(\\alpha\\), we accept the null hypothesis (\\(H_0\\)).}\n",
    "\"\"\"))\n"
   ]
  },
  {
   "cell_type": "markdown",
   "id": "cf2d3841",
   "metadata": {},
   "source": [
    "**There is no sufficient statistical evidence to prove that pizza delivery is not meeting the 30 minutes timeframe**"
   ]
  },
  {
   "cell_type": "markdown",
   "id": "9f20ad79",
   "metadata": {},
   "source": [
    "**Question 2**"
   ]
  },
  {
   "cell_type": "markdown",
   "id": "3e228fea",
   "metadata": {},
   "source": [
    "Assume that a sample of 30 milk carton provides a sample mean of 505 ml \n",
    "The population standard devaition is 10 ml, the level of significance is 0.03 \n",
    "The population mean 500 ml and perform hypothesis testing to help determine whether the filling process should continue operating or be stopped and corrected "
   ]
  },
  {
   "cell_type": "markdown",
   "id": "47078ccd",
   "metadata": {},
   "source": [
    "## Statistical Parameters\n",
    "\n",
    "\n",
    "\\begin{align*}\n",
    "\\bar{x} &= 505 \\, \\text{ml} \\, (\\text{sample mean}) \\\\\n",
    "\\mu_0 &= 500 \\, \\text{ml} \\, (\\text{hypothesized population mean}) \\\\\n",
    "\\sigma &= 10 \\, \\text{ml} \\, (\\text{population standard deviation}) \\\\\n",
    "\\alpha &= 0.03 \\, (\\text{level of significance}) \\\\\n",
    "n &= 30 \\, (\\text{sample size}) \\\\\n",
    "\\end{align*}\n",
    "\n"
   ]
  },
  {
   "cell_type": "markdown",
   "id": "65ffb803",
   "metadata": {},
   "source": [
    "## Hypotheses\n",
    "\n",
    "The null and alternative hypotheses are defined as follows:\n",
    "\n",
    "\n",
    "\\begin{align*}\n",
    "H_0: \\mu &= 500 \\, \\text{ml} \\\\\n",
    "H_a: \\mu &\\neq 500 \\, \\text{ml} \\\\\n",
    "\\end{align*}\n",
    "\n"
   ]
  },
  {
   "cell_type": "markdown",
   "id": "6e18c1c1",
   "metadata": {},
   "source": [
    "## Test Type\n",
    "\n",
    "Since the alternative hypothesis contains not equal to sign, we perform a two-tailed test.\n",
    "\n",
    "## Test Statistic\n",
    "\n",
    "Given that the population standard deviation sigma is known, we use the z-test to evaluate the hypotheses. The z-test is appropriate for large sample sizes and when the population standard deviation is known."
   ]
  },
  {
   "cell_type": "code",
   "execution_count": 18,
   "id": "c9cd02ef",
   "metadata": {},
   "outputs": [
    {
     "name": "stdout",
     "output_type": "stream",
     "text": [
      "Z-score: 2.7386127875258306\n",
      "P-value: 0.0061698993205441255\n"
     ]
    },
    {
     "data": {
      "text/latex": [
       "\n",
       "If \\( p\\text{-value} \\leq \\alpha \\), reject the null hypothesis (\\(H_0\\)). Otherwise, accept the null hypothesis (\\(H_0\\)).\n"
      ],
      "text/plain": [
       "<IPython.core.display.Latex object>"
      ]
     },
     "metadata": {},
     "output_type": "display_data"
    },
    {
     "data": {
      "text/latex": [
       "\n",
       "Since our \\( p\\text{-value} \\) is less than \\(\\alpha\\), we reject the null hypothesis (\\(H_0\\)).}\n"
      ],
      "text/plain": [
       "<IPython.core.display.Latex object>"
      ]
     },
     "metadata": {},
     "output_type": "display_data"
    }
   ],
   "source": [
    "import numpy as np\n",
    "import scipy.stats as stats\n",
    "\n",
    "# Given data\n",
    "sample_mean = 505\n",
    "population_mean = 500\n",
    "population_std = 10\n",
    "sample_size = 30\n",
    "\n",
    "# Calculate the z-score\n",
    "z_score = (sample_mean - population_mean) / (population_std / np.sqrt(sample_size))\n",
    "\n",
    "# Calculate the p-value for a two-tailed test\n",
    "p_value = 2 * (1 - stats.norm.cdf(np.abs(z_score)))\n",
    "\n",
    "# Output the results\n",
    "print(f\"Z-score: {z_score}\")\n",
    "print(f\"P-value: {p_value}\")\n",
    "display(Latex(r\"\"\"\n",
    "If \\( p\\text{-value} \\leq \\alpha \\), reject the null hypothesis (\\(H_0\\)). Otherwise, accept the null hypothesis (\\(H_0\\)).\n",
    "\"\"\"))\n",
    "\n",
    "display(Latex(r\"\"\"\n",
    "Since our \\( p\\text{-value} \\) is less than \\(\\alpha\\), we reject the null hypothesis (\\(H_0\\)).}\n",
    "\"\"\"))\n",
    "\n"
   ]
  },
  {
   "cell_type": "markdown",
   "id": "04d34cce",
   "metadata": {},
   "source": [
    "**There is no sufficient statistical evidence to infer null hypothesis is true**"
   ]
  },
  {
   "cell_type": "markdown",
   "id": "595639d9",
   "metadata": {},
   "source": [
    "**Question 3**"
   ]
  },
  {
   "cell_type": "markdown",
   "id": "3cda6705",
   "metadata": {},
   "source": [
    "Suppose it is assumed that the average weight of a certain widget produced at a factory is 20 grams. \n",
    "\n",
    "However, one engineer believes that a new method produces widgets that weigh less than 20 grams.\n",
    "\n",
    "The sample mean is 19.8 gm , number of widgets is 30 , sample standard devaition is 3.1 gms , level of significance is 0.05 "
   ]
  },
  {
   "cell_type": "markdown",
   "id": "41fb760f",
   "metadata": {},
   "source": [
    "## Statistical Parameters\n",
    "\n",
    "\n",
    "\\begin{align*}\n",
    "\\bar{x} &= 19.8 \\, \\text{grams} \\, (\\text{sample mean}) \\\\\n",
    "\\mu_0 &= 20 \\, \\text{grams} \\, (\\text{hypothesized population mean}) \\\\\n",
    "s &= 3.1 \\, \\text{grams} \\, (\\text{sample standard deviation}) \\\\\n",
    "\\alpha &= 0.05 \\, (\\text{level of significance}) \\\\\n",
    "n &= 30 \\, (\\text{sample size}) \\\\\n",
    "\\end{align*}\n",
    "\n"
   ]
  },
  {
   "cell_type": "markdown",
   "id": "f987221c",
   "metadata": {},
   "source": [
    "## Hypotheses\n",
    "\n",
    "The null and alternative hypotheses are defined as follows:\n",
    "\n",
    "\n",
    "\\begin{align*}\n",
    "H_0: \\mu &\\geq 20 \\, \\text{grams} \\\\\n",
    "H_a: \\mu &< 20 \\, \\text{grams} \\\\\n",
    "\\end{align*}\n",
    "\n"
   ]
  },
  {
   "cell_type": "markdown",
   "id": "96e8426d",
   "metadata": {},
   "source": [
    "## Test Type\n",
    "\n",
    "Since the alternative hypothesis contains the lesser than (<) sign, we perform a one-tailed test. Specifically, this is a left-tailed test because we’re testing if the population parameter is less than a specific value (20).\n",
    "\n",
    "## Test Statistic\n",
    "\n",
    "Since the population standard deviation (\\(\\sigma\\)) is unknown, we use the t-test to evaluate the hypotheses."
   ]
  },
  {
   "cell_type": "code",
   "execution_count": 22,
   "id": "7db7c410",
   "metadata": {},
   "outputs": [
    {
     "name": "stdout",
     "output_type": "stream",
     "text": [
      "T-score: -0.35336939193881556\n",
      "P-value: 0.36318374133218817\n"
     ]
    },
    {
     "data": {
      "text/latex": [
       "\n",
       "If \\( p\\text{-value} \\leq \\alpha \\), reject the null hypothesis (\\(H_0\\)). Otherwise, accept the null hypothesis (\\(H_0\\)).\n"
      ],
      "text/plain": [
       "<IPython.core.display.Latex object>"
      ]
     },
     "metadata": {},
     "output_type": "display_data"
    },
    {
     "data": {
      "text/latex": [
       "\n",
       "Since our \\( p\\text{-value} > \\alpha \\), we fail to reject the null hypothesis (\\(H_0\\)).\n"
      ],
      "text/plain": [
       "<IPython.core.display.Latex object>"
      ]
     },
     "metadata": {},
     "output_type": "display_data"
    }
   ],
   "source": [
    "import numpy as np\n",
    "import scipy.stats as stats\n",
    "from IPython.display import display, Latex\n",
    "\n",
    "# Given data\n",
    "sample_mean = 19.8\n",
    "population_mean = 20\n",
    "sample_std = 3.1\n",
    "sample_size = 30\n",
    "alpha = 0.05\n",
    "\n",
    "# Calculate the t-score\n",
    "t_score = (sample_mean - population_mean) / (sample_std / np.sqrt(sample_size))\n",
    "\n",
    "# Calculate the p-value for a one-tailed left-tailed test\n",
    "p_value = stats.t.cdf(t_score, df=sample_size-1)\n",
    "\n",
    "# Output the results\n",
    "print(f\"T-score: {t_score}\")\n",
    "print(f\"P-value: {p_value}\")\n",
    "display(Latex(r\"\"\"\n",
    "If \\( p\\text{-value} \\leq \\alpha \\), reject the null hypothesis (\\(H_0\\)). Otherwise, accept the null hypothesis (\\(H_0\\)).\n",
    "\"\"\"))\n",
    "\n",
    "if p_value <= alpha:\n",
    "    display(Latex(r\"\"\"\n",
    "Since our \\( p\\text{-value} \\leq \\alpha \\), we reject the null hypothesis (\\(H_0\\)).\n",
    "\"\"\"))\n",
    "else:\n",
    "    display(Latex(r\"\"\"\n",
    "Since our \\( p\\text{-value} > \\alpha \\), we fail to reject the null hypothesis (\\(H_0\\)).\n",
    "\"\"\"))\n"
   ]
  },
  {
   "cell_type": "markdown",
   "id": "2471f8ae",
   "metadata": {},
   "source": [
    "**There is no sufficient statistical evidence to say that the true mean weight of widgets produced by the new method is less than 20 grams**"
   ]
  }
 ],
 "metadata": {
  "kernelspec": {
   "display_name": "Python 3 (ipykernel)",
   "language": "python",
   "name": "python3"
  },
  "language_info": {
   "codemirror_mode": {
    "name": "ipython",
    "version": 3
   },
   "file_extension": ".py",
   "mimetype": "text/x-python",
   "name": "python",
   "nbconvert_exporter": "python",
   "pygments_lexer": "ipython3",
   "version": "3.9.13"
  }
 },
 "nbformat": 4,
 "nbformat_minor": 5
}
